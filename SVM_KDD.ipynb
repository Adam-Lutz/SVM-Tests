{
 "cells": [
  {
   "cell_type": "code",
   "execution_count": 1,
   "id": "b7ab0eb6",
   "metadata": {},
   "outputs": [],
   "source": [
    "#this function will input preprocessed encoded, complete, fully numerica data and send through a SVM\n",
    "\n",
    "#for more information about SVM:\n",
    "#SVM for imbalanced data classification: \n",
    "#https://machinelearningmastery.com/cost-sensitive-svm-for-imbalanced-classification/\n",
    "#Support Vector Machines for Machine Learning:\n",
    "#https://machinelearningmastery.com/support-vector-machines-for-machine-learning/\n",
    "#A tutorial on support Vector Machines for Pattern Recognition (PDF)\n",
    "#http://research.microsoft.com/en-us/um/people/cburges/papers/svmtutorial.pdf\n",
    "#Support Vector Machines from the SCIKIT Learn Documentation\n",
    "#https://scikit-learn.org/stable/modules/svm.html\n",
    "#https://www.analyticsvidhya.com/blog/2017/09/understaing-support-vector-machine-example-code/"
   ]
  },
  {
   "cell_type": "code",
   "execution_count": 2,
   "id": "1dfb44a4",
   "metadata": {},
   "outputs": [],
   "source": [
    "#import libraries\n",
    "import time\n",
    "import os\n",
    "\n",
    "import numpy as np\n",
    "from numpy.random import randn\n",
    "import pandas as pd\n",
    "\n",
    "import math\n",
    "from math import sqrt\n",
    "\n",
    "import matplotlib.pyplot as plt\n",
    "from matplotlib import pyplot\n",
    "\n",
    "import sklearn.preprocessing\n",
    "from sklearn.preprocessing import StandardScaler, MinMaxScaler\n",
    "from sklearn.model_selection import train_test_split\n",
    "from sklearn import metrics\n",
    "from sklearn.metrics import accuracy_score, precision_score, f1_score, recall_score, multilabel_confusion_matrix\n",
    "from sklearn.metrics import classification_report, mean_squared_error, confusion_matrix, balanced_accuracy_score\n",
    "from sklearn.svm import SVC\n",
    "from sklearn.multiclass import OneVsRestClassifier, OneVsOneClassifier"
   ]
  },
  {
   "cell_type": "code",
   "execution_count": 3,
   "id": "cd32abfc",
   "metadata": {},
   "outputs": [],
   "source": [
    "#read the data file:\n",
    "data = pd.read_csv('/media/titan/Storage 6/00_Datasets/IoT_datasets/KDD/KDD_Preproc.csv')\n",
    "\n",
    "#determine the features (X) and the labels to classify (y)\n",
    "X = data.drop(['label'], axis = 1).values\n",
    "y = data['label'].values"
   ]
  },
  {
   "cell_type": "code",
   "execution_count": 4,
   "id": "a7e4bccc",
   "metadata": {},
   "outputs": [],
   "source": [
    "X_train, X_test, y_train, y_test = train_test_split(X, y, test_size=.20)\n",
    "    \n",
    "#feature scaling\n",
    "sc = MinMaxScaler()\n",
    "X_train = sc.fit_transform(X_train)\n",
    "X_test  = sc.fit_transform(X_test)\n",
    "    \n",
    "#start time\n",
    "startTime = time.time()\n",
    "\n",
    "#fit SVM to the training set\n",
    "classifier = SVC(kernel = 'rbf', C = 10, gamma = 0.01)\n",
    "classifier.fit(X_train, y_train)\n",
    "    \n",
    "y_pred = classifier.predict(X_test)\n",
    "\n",
    "#end time\n",
    "executionTime = (time.time() - startTime)"
   ]
  },
  {
   "cell_type": "code",
   "execution_count": 5,
   "id": "6f735a44",
   "metadata": {},
   "outputs": [
    {
     "name": "stdout",
     "output_type": "stream",
     "text": [
      "Execution time in seconds:  55.336596965789795\n",
      "Precision:  50.959795104074736\n",
      "Balanced Accuracy:  51.60827652999731\n",
      "F1:  50.4324968059687\n",
      "Recall:  51.60827652999731\n",
      "RMSE:  0.9763597937484743\n"
     ]
    },
    {
     "name": "stderr",
     "output_type": "stream",
     "text": [
      "/home/titan/anaconda3/envs/py39/lib/python3.9/site-packages/sklearn/metrics/_classification.py:1245: UndefinedMetricWarning: Precision is ill-defined and being set to 0.0 in labels with no predicted samples. Use `zero_division` parameter to control this behavior.\n",
      "  _warn_prf(average, modifier, msg_start, len(result))\n"
     ]
    }
   ],
   "source": [
    "#prints the metrics\n",
    "precision = precision_score(y_test, y_pred, average= 'macro')\n",
    "bal_accuracy = balanced_accuracy_score(y_test, y_pred)\n",
    "f1 = f1_score(y_test, y_pred, average= 'macro')\n",
    "recall = recall_score(y_test, y_pred, average= 'macro')\n",
    "MeanSq = sqrt(mean_squared_error(y_test, y_pred))\n",
    "\n",
    "#prints the metrics\n",
    "print('Execution time in seconds: ', executionTime)\n",
    "\n",
    "#average scores\n",
    "print('Precision: ', precision * 100.00)\n",
    "print('Balanced Accuracy: ', bal_accuracy * 100.00)\n",
    "print('F1: ', f1 * 100.00)\n",
    "print('Recall: ', recall * 100.00)\n",
    "print('RMSE: ', MeanSq)"
   ]
  },
  {
   "cell_type": "code",
   "execution_count": 6,
   "id": "f45da90e",
   "metadata": {},
   "outputs": [
    {
     "name": "stdout",
     "output_type": "stream",
     "text": [
      "              precision    recall  f1-score   support\n",
      "\n",
      "           0     0.9722    0.7977    0.8764       351\n",
      "           1     0.5714    0.6667    0.6154         6\n",
      "           2     0.0000    0.0000    0.0000         1\n",
      "           3     0.7826    0.9474    0.8571        19\n",
      "           4     0.0000    0.0000    0.0000         2\n",
      "           5     0.9476    0.8969    0.9216      1271\n",
      "           6     0.5000    0.2500    0.3333         8\n",
      "           7     0.0000    0.0000    0.0000         4\n",
      "           8     0.0000    0.0000    0.0000         2\n",
      "           9     0.9990    0.9996    0.9993     14292\n",
      "          10     0.7135    0.9734    0.8234       527\n",
      "          11     0.9931    0.9851    0.9891     23629\n",
      "          12     0.0000    0.0000    0.0000         1\n",
      "          13     0.0000    0.0000    0.0000         2\n",
      "          14     0.2500    0.0263    0.0476        76\n",
      "          15     0.9563    0.9796    0.9678      1027\n",
      "          16     0.0000    0.0000    0.0000         5\n",
      "          17     0.9684    0.9158    0.9414      1307\n",
      "          18     0.8167    0.9838    0.8925       924\n",
      "          20     0.8815    0.9414    0.9104       324\n",
      "          21     0.8588    0.9902    0.9198       307\n",
      "          22     0.0000    0.0000    0.0000         6\n",
      "\n",
      "    accuracy                         0.9807     44091\n",
      "   macro avg     0.5096    0.5161    0.5043     44091\n",
      "weighted avg     0.9811    0.9807    0.9802     44091\n",
      "\n"
     ]
    },
    {
     "name": "stderr",
     "output_type": "stream",
     "text": [
      "/home/titan/anaconda3/envs/py39/lib/python3.9/site-packages/sklearn/metrics/_classification.py:1245: UndefinedMetricWarning: Precision and F-score are ill-defined and being set to 0.0 in labels with no predicted samples. Use `zero_division` parameter to control this behavior.\n",
      "  _warn_prf(average, modifier, msg_start, len(result))\n",
      "/home/titan/anaconda3/envs/py39/lib/python3.9/site-packages/sklearn/metrics/_classification.py:1245: UndefinedMetricWarning: Precision and F-score are ill-defined and being set to 0.0 in labels with no predicted samples. Use `zero_division` parameter to control this behavior.\n",
      "  _warn_prf(average, modifier, msg_start, len(result))\n",
      "/home/titan/anaconda3/envs/py39/lib/python3.9/site-packages/sklearn/metrics/_classification.py:1245: UndefinedMetricWarning: Precision and F-score are ill-defined and being set to 0.0 in labels with no predicted samples. Use `zero_division` parameter to control this behavior.\n",
      "  _warn_prf(average, modifier, msg_start, len(result))\n"
     ]
    }
   ],
   "source": [
    "print(classification_report(y_test, y_pred, digits=4))"
   ]
  },
  {
   "cell_type": "code",
   "execution_count": 7,
   "id": "bf84067d",
   "metadata": {},
   "outputs": [],
   "source": [
    "#visualize\n",
    "#sns.map\n",
    "#confusion matrix\n",
    "#subplots of the scatter"
   ]
  },
  {
   "cell_type": "code",
   "execution_count": 8,
   "id": "a404c5cb",
   "metadata": {},
   "outputs": [],
   "source": [
    "#putting the features in here will guess the label\n",
    "#print(clf.predict([[FEATURE1, FEATURE2, ... , FEATUREn]]))"
   ]
  },
  {
   "cell_type": "code",
   "execution_count": null,
   "id": "cb4d1dcc",
   "metadata": {},
   "outputs": [],
   "source": []
  }
 ],
 "metadata": {
  "kernelspec": {
   "display_name": "Python 3",
   "language": "python",
   "name": "python3"
  },
  "language_info": {
   "codemirror_mode": {
    "name": "ipython",
    "version": 3
   },
   "file_extension": ".py",
   "mimetype": "text/x-python",
   "name": "python",
   "nbconvert_exporter": "python",
   "pygments_lexer": "ipython3",
   "version": "3.9.4"
  }
 },
 "nbformat": 4,
 "nbformat_minor": 5
}
